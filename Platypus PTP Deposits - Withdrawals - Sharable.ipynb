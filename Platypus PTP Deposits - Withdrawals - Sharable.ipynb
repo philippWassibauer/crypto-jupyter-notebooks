{
 "cells": [
  {
   "cell_type": "code",
   "execution_count": 44,
   "id": "60ddfbf7",
   "metadata": {},
   "outputs": [],
   "source": [
    "from Crypto.Hash import keccak\n",
    "import requests  \n",
    "import json\n",
    "import pandas as pd \n",
    "from web3 import Web3\n",
    "from web3.middleware import geth_poa_middleware\n",
    "import pandas as pd \n",
    "from datetime import datetime\n",
    "\n",
    "url = 'https://api.snowtrace.io/api'\n",
    "api_key = '***'                                             # Add your API key here (https://snowtrace.io/myapikey)\n",
    "contract_adress = '0x5857019c749147EEE22b1Fe63500F237F3c1B692' # This is the vePTP adress\n",
    "\n",
    "w3 = Web3(Web3.HTTPProvider('https://api.avax.network/ext/bc/C/rpc'))\n",
    "w3.middleware_onion.inject(geth_poa_middleware, layer=0)\n",
    "\n",
    "current_block_number = int(w3.eth.get_block('latest')['number']) # current block\n",
    "ptp_denominator = 1000000000000000000                            # ptp denominator, to convert to decimal PTP amount        "
   ]
  },
  {
   "cell_type": "code",
   "execution_count": 4,
   "id": "f481ed0f",
   "metadata": {},
   "outputs": [],
   "source": [
    "# this function will get all transactions from a specific block number\n",
    "def getAllTransactions(contract_adress, start_block=0):\n",
    "    end_reached = False\n",
    "    transactions = []\n",
    "    indexed_hashes = {}\n",
    "    block_number = start_block\n",
    "    \n",
    "    while end_reached == False:\n",
    "        r = requests.get(url, params={  \n",
    "            'module': 'account',  \n",
    "            'action': 'txList',  \n",
    "            'address': contract_adress,  \n",
    "            'apikey':  api_key, \n",
    "            'startblock': block_number,\n",
    "            'endblock': current_block_number,\n",
    "            'sort': 'asc'\n",
    "        })\n",
    "        \n",
    "        new_transaction_found = False\n",
    "        results = json.loads(r.text)[\"result\"]\n",
    "        for result in results:\n",
    "            if not result[\"hash\"] in indexed_hashes:\n",
    "                transactions.append(result)\n",
    "                indexed_hashes[result[\"hash\"]] = True\n",
    "                new_transaction_found = True\n",
    "        \n",
    "        new_block_number = int(results[-1][\"blockNumber\"])\n",
    "        last_timestamp = datetime.utcfromtimestamp(int(results[-1][\"timeStamp\"])).strftime('%Y-%m-%d %H:%M:%S')\n",
    "        print(f\"Got to block: {block_number}. Transactions #{len(transactions)}. Results: {len(results)}. Last timestamp: {last_timestamp}. \")\n",
    "        \n",
    "        if block_number == new_block_number:\n",
    "            end_reached = True\n",
    "        else:\n",
    "            block_number = new_block_number\n",
    "    \n",
    "    return transactions"
   ]
  },
  {
   "cell_type": "code",
   "execution_count": 5,
   "id": "326de223",
   "metadata": {},
   "outputs": [
    {
     "name": "stdout",
     "output_type": "stream",
     "text": [
      "Got to block: 0. Transactions #10000. Results: 10000. Last timestamp: 2022-01-15 02:37:47. \n",
      "Got to block: 9584202. Transactions #19997. Results: 10000. Last timestamp: 2022-01-15 16:17:35. \n",
      "Got to block: 9609092. Transactions #29996. Results: 10000. Last timestamp: 2022-01-16 05:42:59. \n",
      "Got to block: 9634143. Transactions #39995. Results: 10000. Last timestamp: 2022-01-16 15:52:15. \n",
      "Got to block: 9652679. Transactions #49994. Results: 10000. Last timestamp: 2022-01-17 05:44:58. \n",
      "Got to block: 9678082. Transactions #59993. Results: 10000. Last timestamp: 2022-01-17 18:10:35. \n",
      "Got to block: 9700434. Transactions #69992. Results: 10000. Last timestamp: 2022-01-18 12:19:34. \n",
      "Got to block: 9732964. Transactions #79991. Results: 10000. Last timestamp: 2022-01-19 06:28:23. \n",
      "Got to block: 9765674. Transactions #89990. Results: 10000. Last timestamp: 2022-01-20 00:28:29. \n",
      "Got to block: 9798218. Transactions #99989. Results: 10000. Last timestamp: 2022-01-20 21:17:29. \n",
      "Got to block: 9835100. Transactions #109988. Results: 10000. Last timestamp: 2022-01-21 23:16:22. \n",
      "Got to block: 9881897. Transactions #119987. Results: 10000. Last timestamp: 2022-01-23 10:05:33. \n",
      "Got to block: 9945015. Transactions #129986. Results: 10000. Last timestamp: 2022-01-25 00:35:24. \n",
      "Got to block: 10015108. Transactions #139984. Results: 10000. Last timestamp: 2022-01-26 21:39:12. \n",
      "Got to block: 10097002. Transactions #149982. Results: 10000. Last timestamp: 2022-01-29 04:09:47. \n",
      "Got to block: 10196189. Transactions #159981. Results: 10000. Last timestamp: 2022-02-01 00:32:47. \n",
      "Got to block: 10320640. Transactions #169980. Results: 10000. Last timestamp: 2022-02-04 07:34:01. \n",
      "Got to block: 10465924. Transactions #179979. Results: 10000. Last timestamp: 2022-02-07 16:27:50. \n",
      "Got to block: 10613458. Transactions #189978. Results: 10000. Last timestamp: 2022-02-11 11:07:01. \n",
      "Got to block: 10776596. Transactions #199977. Results: 10000. Last timestamp: 2022-02-15 12:14:30. \n",
      "Got to block: 10952760. Transactions #200284. Results: 308. Last timestamp: 2022-02-15 14:23:11. \n",
      "Got to block: 10956541. Transactions #200284. Results: 1. Last timestamp: 2022-02-15 14:23:11. \n"
     ]
    },
    {
     "data": {
      "text/plain": [
       "200284"
      ]
     },
     "execution_count": 5,
     "metadata": {},
     "output_type": "execute_result"
    }
   ],
   "source": [
    "allTransactions = getAllTransactions(contract_adress)\n",
    "len(allTransactions)"
   ]
  },
  {
   "cell_type": "code",
   "execution_count": 6,
   "id": "83e89991",
   "metadata": {},
   "outputs": [],
   "source": [
    "deposits = [result for result in allTransactions if result['input'].startswith('0xb6b55f25')]"
   ]
  },
  {
   "cell_type": "code",
   "execution_count": 32,
   "id": "a19b24bf",
   "metadata": {},
   "outputs": [],
   "source": [
    "struct_deposits = [{'timestamp': datetime.utcfromtimestamp(int(result[\"timeStamp\"])).strftime('%Y-%m-%d'),\n",
    "                    'from': result[\"from\"],\n",
    "                    'value': int(result['input'][-20:], 16) / ptp_denominator } \n",
    "                   for result in deposits if result['isError'] == '0']"
   ]
  },
  {
   "cell_type": "code",
   "execution_count": 35,
   "id": "d8607424",
   "metadata": {},
   "outputs": [
    {
     "data": {
      "text/html": [
       "<div>\n",
       "<style scoped>\n",
       "    .dataframe tbody tr th:only-of-type {\n",
       "        vertical-align: middle;\n",
       "    }\n",
       "\n",
       "    .dataframe tbody tr th {\n",
       "        vertical-align: top;\n",
       "    }\n",
       "\n",
       "    .dataframe thead th {\n",
       "        text-align: right;\n",
       "    }\n",
       "</style>\n",
       "<table border=\"1\" class=\"dataframe\">\n",
       "  <thead>\n",
       "    <tr style=\"text-align: right;\">\n",
       "      <th></th>\n",
       "      <th>timestamp</th>\n",
       "      <th>from</th>\n",
       "      <th>value</th>\n",
       "    </tr>\n",
       "  </thead>\n",
       "  <tbody>\n",
       "    <tr>\n",
       "      <th>55732</th>\n",
       "      <td>2022-02-15</td>\n",
       "      <td>0xeea30dfeab54a05434967f4540cddcd61dca2d21</td>\n",
       "      <td>11.520649</td>\n",
       "    </tr>\n",
       "    <tr>\n",
       "      <th>55733</th>\n",
       "      <td>2022-02-15</td>\n",
       "      <td>0x629fad392bcf377efc8a6ca3549e97a399e419da</td>\n",
       "      <td>79.112124</td>\n",
       "    </tr>\n",
       "    <tr>\n",
       "      <th>55734</th>\n",
       "      <td>2022-02-15</td>\n",
       "      <td>0x81518347254d16d86d2da9b6184c80c03d3e0020</td>\n",
       "      <td>16.050271</td>\n",
       "    </tr>\n",
       "    <tr>\n",
       "      <th>55735</th>\n",
       "      <td>2022-02-15</td>\n",
       "      <td>0x8549361cd2c83e53fca7249fd734eb4b8821f610</td>\n",
       "      <td>118200.401160</td>\n",
       "    </tr>\n",
       "    <tr>\n",
       "      <th>55736</th>\n",
       "      <td>2022-02-15</td>\n",
       "      <td>0x1169b6d5703256e11c769188366ca5f2dc2a701d</td>\n",
       "      <td>12.026659</td>\n",
       "    </tr>\n",
       "  </tbody>\n",
       "</table>\n",
       "</div>"
      ],
      "text/plain": [
       "        timestamp                                        from          value\n",
       "55732  2022-02-15  0xeea30dfeab54a05434967f4540cddcd61dca2d21      11.520649\n",
       "55733  2022-02-15  0x629fad392bcf377efc8a6ca3549e97a399e419da      79.112124\n",
       "55734  2022-02-15  0x81518347254d16d86d2da9b6184c80c03d3e0020      16.050271\n",
       "55735  2022-02-15  0x8549361cd2c83e53fca7249fd734eb4b8821f610  118200.401160\n",
       "55736  2022-02-15  0x1169b6d5703256e11c769188366ca5f2dc2a701d      12.026659"
      ]
     },
     "execution_count": 35,
     "metadata": {},
     "output_type": "execute_result"
    }
   ],
   "source": [
    "df_deposits = pd.json_normalize(struct_deposits)\n",
    "df_deposits[[\"timestamp\", \"from\", \"value\"]].tail()"
   ]
  },
  {
   "cell_type": "code",
   "execution_count": 36,
   "id": "711e0d58",
   "metadata": {},
   "outputs": [],
   "source": [
    "withdrawals = [result for result in allTransactions if result['input'].startswith('0x2e1a7d4d')]"
   ]
  },
  {
   "cell_type": "code",
   "execution_count": 37,
   "id": "f7e5847b",
   "metadata": {},
   "outputs": [],
   "source": [
    "struct_withdrawals = [{'timestamp': datetime.utcfromtimestamp(int(result[\"timeStamp\"])).strftime('%Y-%m-%d'),\n",
    "                       'from': result[\"from\"],\n",
    "                       'isError': result['isError'],\n",
    "                       'value': int(result['input'][-20:], 16) / ptp_denominator } \n",
    "                     for result in withdrawals if result['isError'] == '0']"
   ]
  },
  {
   "cell_type": "code",
   "execution_count": 38,
   "id": "87e9d9cd",
   "metadata": {},
   "outputs": [
    {
     "data": {
      "text/html": [
       "<div>\n",
       "<style scoped>\n",
       "    .dataframe tbody tr th:only-of-type {\n",
       "        vertical-align: middle;\n",
       "    }\n",
       "\n",
       "    .dataframe tbody tr th {\n",
       "        vertical-align: top;\n",
       "    }\n",
       "\n",
       "    .dataframe thead th {\n",
       "        text-align: right;\n",
       "    }\n",
       "</style>\n",
       "<table border=\"1\" class=\"dataframe\">\n",
       "  <thead>\n",
       "    <tr style=\"text-align: right;\">\n",
       "      <th></th>\n",
       "      <th>timestamp</th>\n",
       "      <th>from</th>\n",
       "      <th>value</th>\n",
       "    </tr>\n",
       "  </thead>\n",
       "  <tbody>\n",
       "    <tr>\n",
       "      <th>6961</th>\n",
       "      <td>2022-02-15</td>\n",
       "      <td>0x038543cd93c129b820d6151f5c699602756ca1b9</td>\n",
       "      <td>12.721665</td>\n",
       "    </tr>\n",
       "    <tr>\n",
       "      <th>6962</th>\n",
       "      <td>2022-02-15</td>\n",
       "      <td>0x39de6abe3e2918e89da31b23ac1b8c6ad01bf21e</td>\n",
       "      <td>13.700000</td>\n",
       "    </tr>\n",
       "    <tr>\n",
       "      <th>6963</th>\n",
       "      <td>2022-02-15</td>\n",
       "      <td>0x5edb42f398b3e9ccc34f7ec3461cace7a8f2640b</td>\n",
       "      <td>12.803416</td>\n",
       "    </tr>\n",
       "    <tr>\n",
       "      <th>6964</th>\n",
       "      <td>2022-02-15</td>\n",
       "      <td>0x5210706caf8428f079e3a9a75037566eb7bc4abb</td>\n",
       "      <td>8.973074</td>\n",
       "    </tr>\n",
       "    <tr>\n",
       "      <th>6965</th>\n",
       "      <td>2022-02-15</td>\n",
       "      <td>0x3490bdb469454a6f16c2c6bde8b6bb0dde36532f</td>\n",
       "      <td>10.640649</td>\n",
       "    </tr>\n",
       "  </tbody>\n",
       "</table>\n",
       "</div>"
      ],
      "text/plain": [
       "       timestamp                                        from      value\n",
       "6961  2022-02-15  0x038543cd93c129b820d6151f5c699602756ca1b9  12.721665\n",
       "6962  2022-02-15  0x39de6abe3e2918e89da31b23ac1b8c6ad01bf21e  13.700000\n",
       "6963  2022-02-15  0x5edb42f398b3e9ccc34f7ec3461cace7a8f2640b  12.803416\n",
       "6964  2022-02-15  0x5210706caf8428f079e3a9a75037566eb7bc4abb   8.973074\n",
       "6965  2022-02-15  0x3490bdb469454a6f16c2c6bde8b6bb0dde36532f  10.640649"
      ]
     },
     "execution_count": 38,
     "metadata": {},
     "output_type": "execute_result"
    }
   ],
   "source": [
    "df_withdrawals = pd.json_normalize(struct_withdrawals)\n",
    "df_withdrawals[[\"timestamp\", \"from\", \"value\"]].tail()"
   ]
  },
  {
   "cell_type": "code",
   "execution_count": 39,
   "id": "adef73be",
   "metadata": {},
   "outputs": [
    {
     "data": {
      "text/html": [
       "<div>\n",
       "<style scoped>\n",
       "    .dataframe tbody tr th:only-of-type {\n",
       "        vertical-align: middle;\n",
       "    }\n",
       "\n",
       "    .dataframe tbody tr th {\n",
       "        vertical-align: top;\n",
       "    }\n",
       "\n",
       "    .dataframe thead tr th {\n",
       "        text-align: left;\n",
       "    }\n",
       "</style>\n",
       "<table border=\"1\" class=\"dataframe\">\n",
       "  <thead>\n",
       "    <tr>\n",
       "      <th></th>\n",
       "      <th>timestamp</th>\n",
       "      <th>from</th>\n",
       "      <th>value</th>\n",
       "    </tr>\n",
       "    <tr>\n",
       "      <th></th>\n",
       "      <th></th>\n",
       "      <th>sum</th>\n",
       "      <th>sum</th>\n",
       "    </tr>\n",
       "  </thead>\n",
       "  <tbody>\n",
       "    <tr>\n",
       "      <th>28</th>\n",
       "      <td>2022-02-11</td>\n",
       "      <td>0x743e732944fe0e40bd50731cc9cd4e0d9568cbbe0x92...</td>\n",
       "      <td>129557.274917</td>\n",
       "    </tr>\n",
       "    <tr>\n",
       "      <th>29</th>\n",
       "      <td>2022-02-12</td>\n",
       "      <td>0x40d3aaf33366576a7fc3987b047a4d2c8d77ea4f0x50...</td>\n",
       "      <td>144345.725069</td>\n",
       "    </tr>\n",
       "    <tr>\n",
       "      <th>30</th>\n",
       "      <td>2022-02-13</td>\n",
       "      <td>0xdf90663d8cdfbc463efa6c8ef85a05671c8b2e730xa0...</td>\n",
       "      <td>95599.562126</td>\n",
       "    </tr>\n",
       "    <tr>\n",
       "      <th>31</th>\n",
       "      <td>2022-02-14</td>\n",
       "      <td>0xc25db8633d8ca617df39db3f0fb515e0aeead14b0x67...</td>\n",
       "      <td>123875.631832</td>\n",
       "    </tr>\n",
       "    <tr>\n",
       "      <th>32</th>\n",
       "      <td>2022-02-15</td>\n",
       "      <td>0xc19f526a27dda0b357f8a748b8691fbfbcad561b0x34...</td>\n",
       "      <td>241577.554305</td>\n",
       "    </tr>\n",
       "  </tbody>\n",
       "</table>\n",
       "</div>"
      ],
      "text/plain": [
       "     timestamp                                               from  \\\n",
       "                                                              sum   \n",
       "28  2022-02-11  0x743e732944fe0e40bd50731cc9cd4e0d9568cbbe0x92...   \n",
       "29  2022-02-12  0x40d3aaf33366576a7fc3987b047a4d2c8d77ea4f0x50...   \n",
       "30  2022-02-13  0xdf90663d8cdfbc463efa6c8ef85a05671c8b2e730xa0...   \n",
       "31  2022-02-14  0xc25db8633d8ca617df39db3f0fb515e0aeead14b0x67...   \n",
       "32  2022-02-15  0xc19f526a27dda0b357f8a748b8691fbfbcad561b0x34...   \n",
       "\n",
       "            value  \n",
       "              sum  \n",
       "28  129557.274917  \n",
       "29  144345.725069  \n",
       "30   95599.562126  \n",
       "31  123875.631832  \n",
       "32  241577.554305  "
      ]
     },
     "execution_count": 39,
     "metadata": {},
     "output_type": "execute_result"
    }
   ],
   "source": [
    "df_daily_deposits=df_deposits.groupby('timestamp').agg(['sum']).reset_index()\n",
    "df_daily_deposits.tail()"
   ]
  },
  {
   "cell_type": "code",
   "execution_count": 40,
   "id": "c0a9ddfe",
   "metadata": {
    "scrolled": true
   },
   "outputs": [
    {
     "data": {
      "text/plain": [
       "<AxesSubplot:xlabel='timestamp'>"
      ]
     },
     "execution_count": 40,
     "metadata": {},
     "output_type": "execute_result"
    },
    {
     "data": {
      "image/png": "[encoded data removed]",
      "text/plain": [
       "<Figure size 1800x1440 with 1 Axes>"
      ]
     },
     "metadata": {
      "needs_background": "light"
     },
     "output_type": "display_data"
    }
   ],
   "source": [
    "df_daily_deposits.plot(x='timestamp', y='value',kind=\"bar\", figsize=(25,20))"
   ]
  },
  {
   "cell_type": "code",
   "execution_count": 41,
   "id": "edc64411",
   "metadata": {
    "scrolled": true
   },
   "outputs": [
    {
     "data": {
      "text/html": [
       "<div>\n",
       "<style scoped>\n",
       "    .dataframe tbody tr th:only-of-type {\n",
       "        vertical-align: middle;\n",
       "    }\n",
       "\n",
       "    .dataframe tbody tr th {\n",
       "        vertical-align: top;\n",
       "    }\n",
       "\n",
       "    .dataframe thead tr th {\n",
       "        text-align: left;\n",
       "    }\n",
       "</style>\n",
       "<table border=\"1\" class=\"dataframe\">\n",
       "  <thead>\n",
       "    <tr>\n",
       "      <th></th>\n",
       "      <th>timestamp</th>\n",
       "      <th>from</th>\n",
       "      <th>isError</th>\n",
       "      <th>value</th>\n",
       "    </tr>\n",
       "    <tr>\n",
       "      <th></th>\n",
       "      <th></th>\n",
       "      <th>sum</th>\n",
       "      <th>sum</th>\n",
       "      <th>sum</th>\n",
       "    </tr>\n",
       "  </thead>\n",
       "  <tbody>\n",
       "    <tr>\n",
       "      <th>28</th>\n",
       "      <td>2022-02-11</td>\n",
       "      <td>0xa8b0ef328b43945f24ed99718d151b46aa771f470x14...</td>\n",
       "      <td>0000000000000000000000000000000000000000000000...</td>\n",
       "      <td>67505.056489</td>\n",
       "    </tr>\n",
       "    <tr>\n",
       "      <th>29</th>\n",
       "      <td>2022-02-12</td>\n",
       "      <td>0x468fd68b81475ac46d00f491bfa52ef8aaa17e970x2d...</td>\n",
       "      <td>0000000000000000000000000000000000000000000000000</td>\n",
       "      <td>48686.905935</td>\n",
       "    </tr>\n",
       "    <tr>\n",
       "      <th>30</th>\n",
       "      <td>2022-02-13</td>\n",
       "      <td>0x16e23c85be01cdf56c3b9f0fbc9308a285e5c9a80x07...</td>\n",
       "      <td>000000000000000000000000000000000</td>\n",
       "      <td>13482.687859</td>\n",
       "    </tr>\n",
       "    <tr>\n",
       "      <th>31</th>\n",
       "      <td>2022-02-14</td>\n",
       "      <td>0x3853cfc54c63d2f2ba61c3190dffb60d85cd56940x51...</td>\n",
       "      <td>0000000000000000000000000000000000000000000000...</td>\n",
       "      <td>29809.627744</td>\n",
       "    </tr>\n",
       "    <tr>\n",
       "      <th>32</th>\n",
       "      <td>2022-02-15</td>\n",
       "      <td>0x7ea4b8e821e41b561d97d5adc4df5fc75eff7fee0xa9...</td>\n",
       "      <td>0000000000000000000000000000000000000</td>\n",
       "      <td>4891.564536</td>\n",
       "    </tr>\n",
       "  </tbody>\n",
       "</table>\n",
       "</div>"
      ],
      "text/plain": [
       "     timestamp                                               from  \\\n",
       "                                                              sum   \n",
       "28  2022-02-11  0xa8b0ef328b43945f24ed99718d151b46aa771f470x14...   \n",
       "29  2022-02-12  0x468fd68b81475ac46d00f491bfa52ef8aaa17e970x2d...   \n",
       "30  2022-02-13  0x16e23c85be01cdf56c3b9f0fbc9308a285e5c9a80x07...   \n",
       "31  2022-02-14  0x3853cfc54c63d2f2ba61c3190dffb60d85cd56940x51...   \n",
       "32  2022-02-15  0x7ea4b8e821e41b561d97d5adc4df5fc75eff7fee0xa9...   \n",
       "\n",
       "                                              isError         value  \n",
       "                                                  sum           sum  \n",
       "28  0000000000000000000000000000000000000000000000...  67505.056489  \n",
       "29  0000000000000000000000000000000000000000000000000  48686.905935  \n",
       "30                  000000000000000000000000000000000  13482.687859  \n",
       "31  0000000000000000000000000000000000000000000000...  29809.627744  \n",
       "32              0000000000000000000000000000000000000   4891.564536  "
      ]
     },
     "execution_count": 41,
     "metadata": {},
     "output_type": "execute_result"
    }
   ],
   "source": [
    "df_daily_withdraw = df_withdrawals.groupby('timestamp').agg(['sum']).reset_index()\n",
    "df_daily_withdraw.tail()"
   ]
  },
  {
   "cell_type": "code",
   "execution_count": 42,
   "id": "5d0680f9",
   "metadata": {
    "scrolled": true
   },
   "outputs": [
    {
     "data": {
      "text/plain": [
       "<AxesSubplot:xlabel='timestamp'>"
      ]
     },
     "execution_count": 42,
     "metadata": {},
     "output_type": "execute_result"
    },
    {
     "data": {
      "image/png": "[encoded data removed]",
      "text/plain": [
       "<Figure size 1800x1440 with 1 Axes>"
      ]
     },
     "metadata": {
      "needs_background": "light"
     },
     "output_type": "display_data"
    }
   ],
   "source": [
    "df_daily_withdraw.plot(x='timestamp', y='value',kind=\"bar\", figsize=(25,20))"
   ]
  },
  {
   "cell_type": "code",
   "execution_count": 43,
   "id": "b2c07235",
   "metadata": {},
   "outputs": [
    {
     "data": {
      "text/plain": [
       "<AxesSubplot:>"
      ]
     },
     "execution_count": 43,
     "metadata": {},
     "output_type": "execute_result"
    },
    {
     "data": {
      "image/png": "[encoded data removed]",
      "text/plain": [
       "<Figure size 1800x1440 with 1 Axes>"
      ]
     },
     "metadata": {
      "needs_background": "light"
     },
     "output_type": "display_data"
    }
   ],
   "source": [
    "plotdata = pd.DataFrame({\n",
    "    \"withdrawals\": df_withdrawals.groupby('timestamp').agg(['sum']).reset_index()['value'].values.flatten(),\n",
    "    \"deposits\": df_deposits.groupby('timestamp').agg(['sum']).reset_index()['value'].values.flatten(),\n",
    "    }, \n",
    "    index=df_deposits.groupby('timestamp').agg(['sum']).reset_index()['timestamp'].values.flatten()\n",
    ")\n",
    "plotdata.plot(kind=\"bar\", figsize=(25,20))"
   ]
  },
  {
   "cell_type": "code",
   "execution_count": null,
   "id": "360d2124",
   "metadata": {},
   "outputs": [],
   "source": []
  }
 ],
 "metadata": {
  "kernelspec": {
   "display_name": "Python 3 (ipykernel)",
   "language": "python",
   "name": "python3"
  },
  "language_info": {
   "codemirror_mode": {
    "name": "ipython",
    "version": 3
   },
   "file_extension": ".py",
   "mimetype": "text/x-python",
   "name": "python",
   "nbconvert_exporter": "python",
   "pygments_lexer": "ipython3",
   "version": "3.9.7"
  }
 },
 "nbformat": 4,
 "nbformat_minor": 5
}
